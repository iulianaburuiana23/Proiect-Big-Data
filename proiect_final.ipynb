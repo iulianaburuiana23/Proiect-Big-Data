{
 "cells": [
  {
   "cell_type": "markdown",
   "id": "e547653e-ad02-4fd4-8310-95a803856177",
   "metadata": {
    "tags": []
   },
   "source": [
    "# Medical Cost Pricing\n",
    "\n",
    "### Student:Buruiana Iuliana-Maria\n"
   ]
  },
  {
   "cell_type": "markdown",
   "id": "f9b764b4-5f6f-4864-bd59-dc5dc79c32a1",
   "metadata": {},
   "source": [
    "## Prezentarea setului de date\n",
    "\n",
    "Setul de date \"insurance.csv\" contine 7 coloane si 1338 de randuri si reprezinta datele care afectează costurile medicale\n",
    "ale unui beneficiar facturate de asigurarea de sanatate. \n",
    "\n",
    "## Caracteristici\n",
    "<ul>\n",
    "<li>age: Vârsta beneficiarului principal</li>\n",
    "<li>sex: Sexul contractantului de asigurare, femeie, bărbat</li>\n",
    "<li>bmi: Indicele de masă corporală, care oferă o înțelegere a corpului, greutăți care sunt relativ mari sau\n",
    "mici în raport cu înălțimea,indice obiectiv al greutății corporale (kg / m ^ 2), folosind raportul dintre \n",
    "înălțime și greutate, în mod ideal între 18,5 și 24,9</li>\n",
    "\n",
    "<li>children: Numărul de copii acoperiți de asigurarea de sănătate / Numărul de persoane aflate în întreținere</li>\n",
    "\n",
    "<li>fumător: Beneficiarul este sau nu fumator</li>\n",
    "\n",
    "<li>region: Zona de reședință a beneficiarului în SUA: nord-est, sud-est, sud-vest, nord-vest.</li>\n",
    "\n",
    "<li>taxe: Costuri medicale individuale facturate de asigurarea de sănătate</li>\n",
    "</ul>\n",
    "\n",
    "## Etapele proiectului:\n",
    "\n",
    "1. Importarea librariilor si crearea sesiunii spark\n",
    "2. Importarea setului de date din fisierul CSV aflat in Google Drive\n",
    "3. Prezentarea datelor (coloane, numar de intrari, cateva statistici)\n",
    "4. Verificarea, prelucrarea si pregatirea datelor\n",
    "5. Verificarea pe coloane a existentei valorilor null\n",
    "<ul>\n",
    "<li>Verificarea datelor din coloanele 'region' si 'smoker'</li>\n",
    "<li>Transformarea variabilelor 'region' si 'smoker' de tip string in variabila categoriala</li>\n",
    "<li>Creearea unui vector de 'features' folosind VectorAssembler</li>\n",
    "</ul>\n",
    "Selectia modelelor:\n",
    "Linear Regression\n",
    "Random Forest + creearea si utilizarea unui pipeline\n",
    "Gradient-boosted tree regression + creearea si utilizarea unui pipeline\n",
    "Utilizarea unui model DL - utilizand Tensorflow"
   ]
  },
  {
   "cell_type": "code",
   "execution_count": 1,
   "id": "603a88d6-ad7e-4001-bda1-ebb65cddedb0",
   "metadata": {},
   "outputs": [],
   "source": [
    "from time import time\n",
    "from pyspark import SparkContext\n",
    "from pyspark.sql import SparkSession"
   ]
  },
  {
   "cell_type": "code",
   "execution_count": 6,
   "id": "3a145268-c6b6-4f14-a537-e79156212d37",
   "metadata": {},
   "outputs": [],
   "source": [
    "import numpy as np\n",
    "import matplotlib.pyplot as plt\n",
    "import seaborn as sns\n",
    "from pyspark.sql import functions\n",
    "import pyspark.sql.functions as f\n",
    "from pyspark.sql.functions import col\n",
    "from pyspark.ml.feature import VectorAssembler,VectorIndexer,OneHotEncoder,StringIndexer\n",
    "from pyspark.ml.linalg import Vectors\n",
    "from pyspark.ml import Pipeline\n",
    "from pyspark.ml.regression import LinearRegression, RandomForestRegressor, GBTRegressor\n",
    "from pyspark.ml.evaluation import RegressionEvaluator\n",
    "from sklearn.model_selection import train_test_split\n",
    "from pyspark.sql.types import *\n",
    "from sklearn.preprocessing import MinMaxScaler\n",
    "from tensorflow.keras.models import Sequential\n",
    "from tensorflow.keras.layers import Dense\n",
    "from sklearn.metrics import mean_squared_error, mean_absolute_error, mean_squared_log_error"
   ]
  },
  {
   "cell_type": "markdown",
   "id": "c78a657a-6826-4a3f-96e8-4c27972dfce2",
   "metadata": {},
   "source": [
    "## 2. Incărcarea datelor"
   ]
  },
  {
   "cell_type": "code",
   "execution_count": 7,
   "id": "e4f57bad-8e97-4461-8f80-b2cc3d63dc61",
   "metadata": {},
   "outputs": [],
   "source": [
    "spark = SparkSession.builder.appName('StrokePrediction').getOrCreate()\n",
    "df = spark.read.csv('insurance.csv', inferSchema=True, header=True)\n"
   ]
  },
  {
   "cell_type": "markdown",
   "id": "b94f9977-1c84-42ff-8511-948c5eab76c5",
   "metadata": {},
   "source": [
    "## 3. Prezentarea datelor\n",
    "Se vor afișa: schema datelor, numarul de intrari din setul de date, coloanele existente, afisare aprimelor 20 de intrari, o statistica si cateva ploturi (matricea de corelatii si histograme). Primulplot reprezinta  matricea de corelatii si va contine toate atributele din setul de date, al doilea plot va fi o histograma ce va prezenta distributia variabilei 'charges'.\n"
   ]
  },
  {
   "cell_type": "code",
   "execution_count": 8,
   "id": "d3f2163d-e82e-4e6f-a640-24c0cb0b2a24",
   "metadata": {},
   "outputs": [
    {
     "name": "stdout",
     "output_type": "stream",
     "text": [
      "root\n",
      " |-- age: integer (nullable = true)\n",
      " |-- sex: string (nullable = true)\n",
      " |-- bmi: double (nullable = true)\n",
      " |-- children: integer (nullable = true)\n",
      " |-- smoker: string (nullable = true)\n",
      " |-- region: string (nullable = true)\n",
      " |-- charges: double (nullable = true)\n",
      "\n"
     ]
    }
   ],
   "source": [
    "# Se afiseaza schema datelor\n",
    "df.printSchema()"
   ]
  },
  {
   "cell_type": "markdown",
   "id": "69b6141d-27db-4c31-bf5c-680623f57d6b",
   "metadata": {},
   "source": [
    "Spark nu detectează schema în mod corespunzător, așa că trebuie să definim și schema pentru setul de date.\n",
    "Tipul de date incorect poate produce probleme greu de depistat și erori de execuție. Prin urmare, se redifiește schema setului."
   ]
  },
  {
   "cell_type": "code",
   "execution_count": 9,
   "id": "5a59b67c-83d5-4de4-b904-19ba2f2397b7",
   "metadata": {},
   "outputs": [
    {
     "name": "stdout",
     "output_type": "stream",
     "text": [
      "root\n",
      " |-- age: integer (nullable = true)\n",
      " |-- sex: string (nullable = true)\n",
      " |-- bmi: double (nullable = true)\n",
      " |-- children: integer (nullable = true)\n",
      " |-- smoker: string (nullable = true)\n",
      " |-- region: string (nullable = true)\n",
      " |-- charges: double (nullable = true)\n",
      "\n"
     ]
    }
   ],
   "source": [
    "Schema=StructType([\n",
    "  StructField('age',IntegerType(),nullable=True),\n",
    "  StructField('sex',StringType() ,nullable=True),\n",
    "  StructField('bmi',DoubleType(),nullable=True),\n",
    "  StructField('children', IntegerType(),nullable=True),\n",
    "  StructField('smoker',StringType() ,nullable=True),\n",
    "  StructField('region',StringType() ,nullable=True),\n",
    "  StructField('charges',DoubleType() ,nullable=True),\n",
    "    \n",
    " \n",
    "])\n",
    "df = spark.read.option('header',True).schema(Schema).csv('insurance.csv')\n",
    "df.printSchema()"
   ]
  },
  {
   "cell_type": "code",
   "execution_count": 10,
   "id": "1c4d9378-1199-4c17-ba2c-b1475417ae7e",
   "metadata": {},
   "outputs": [
    {
     "data": {
      "text/plain": [
       "1338"
      ]
     },
     "execution_count": 10,
     "metadata": {},
     "output_type": "execute_result"
    }
   ],
   "source": [
    "# Se afiseaza numarul de intrari din setul de date\n",
    "df.count()"
   ]
  },
  {
   "cell_type": "code",
   "execution_count": 11,
   "id": "a39d4f4a-9b64-4459-8366-8c1b16835c10",
   "metadata": {},
   "outputs": [
    {
     "data": {
      "text/plain": [
       "['age', 'sex', 'bmi', 'children', 'smoker', 'region', 'charges']"
      ]
     },
     "execution_count": 11,
     "metadata": {},
     "output_type": "execute_result"
    }
   ],
   "source": [
    "# Se afiseaza coloanele din setul de date\n",
    "df.columns"
   ]
  },
  {
   "cell_type": "code",
   "execution_count": 12,
   "id": "24d1a16d-1e07-4d50-98a1-a2d9eb43adb3",
   "metadata": {},
   "outputs": [
    {
     "name": "stdout",
     "output_type": "stream",
     "text": [
      "+---+------+------+--------+------+---------+-----------+\n",
      "|age|   sex|   bmi|children|smoker|   region|    charges|\n",
      "+---+------+------+--------+------+---------+-----------+\n",
      "| 19|female|  27.9|       0|   yes|southwest|  16884.924|\n",
      "| 18|  male| 33.77|       1|    no|southeast|  1725.5523|\n",
      "| 28|  male|  33.0|       3|    no|southeast|   4449.462|\n",
      "| 33|  male|22.705|       0|    no|northwest|21984.47061|\n",
      "| 32|  male| 28.88|       0|    no|northwest|  3866.8552|\n",
      "| 31|female| 25.74|       0|    no|southeast|  3756.6216|\n",
      "| 46|female| 33.44|       1|    no|southeast|  8240.5896|\n",
      "| 37|female| 27.74|       3|    no|northwest|  7281.5056|\n",
      "| 37|  male| 29.83|       2|    no|northeast|  6406.4107|\n",
      "| 60|female| 25.84|       0|    no|northwest|28923.13692|\n",
      "| 25|  male| 26.22|       0|    no|northeast|  2721.3208|\n",
      "| 62|female| 26.29|       0|   yes|southeast| 27808.7251|\n",
      "| 23|  male|  34.4|       0|    no|southwest|   1826.843|\n",
      "| 56|female| 39.82|       0|    no|southeast| 11090.7178|\n",
      "| 27|  male| 42.13|       0|   yes|southeast| 39611.7577|\n",
      "| 19|  male|  24.6|       1|    no|southwest|   1837.237|\n",
      "| 52|female| 30.78|       1|    no|northeast| 10797.3362|\n",
      "| 23|  male|23.845|       0|    no|northeast| 2395.17155|\n",
      "| 56|  male|  40.3|       0|    no|southwest|  10602.385|\n",
      "| 30|  male|  35.3|       0|   yes|southwest|  36837.467|\n",
      "+---+------+------+--------+------+---------+-----------+\n",
      "only showing top 20 rows\n",
      "\n"
     ]
    }
   ],
   "source": [
    "# Se afiseaza datele (primele 20 de randuri)\n",
    "df.show()"
   ]
  },
  {
   "cell_type": "code",
   "execution_count": 13,
   "id": "a4b34691-ca62-4ef9-aea2-bfef51b92542",
   "metadata": {},
   "outputs": [
    {
     "name": "stdout",
     "output_type": "stream",
     "text": [
      "+-------+------------------+------+------------------+-----------------+------+---------+------------------+\n",
      "|summary|               age|   sex|               bmi|         children|smoker|   region|           charges|\n",
      "+-------+------------------+------+------------------+-----------------+------+---------+------------------+\n",
      "|  count|              1338|  1338|              1338|             1338|  1338|     1338|              1338|\n",
      "|   mean| 39.20702541106129|  null|30.663396860986538|  1.0949177877429|  null|     null|13270.422265141257|\n",
      "| stddev|14.049960379216147|  null| 6.098186911679012|1.205492739781914|  null|     null|12110.011236693992|\n",
      "|    min|                18|female|             15.96|                0|    no|northeast|         1121.8739|\n",
      "|    25%|                27|  null|             26.29|                0|  null|     null|         4738.2682|\n",
      "|    50%|                39|  null|              30.4|                1|  null|     null|         9377.9047|\n",
      "|    75%|                51|  null|              34.7|                2|  null|     null|       16657.71745|\n",
      "|    max|                64|  male|             53.13|                5|   yes|southwest|       63770.42801|\n",
      "+-------+------------------+------+------------------+-----------------+------+---------+------------------+\n",
      "\n"
     ]
    }
   ],
   "source": [
    "#Statistica asupra setului de date\n",
    "df.summary().show()"
   ]
  },
  {
   "cell_type": "code",
   "execution_count": 14,
   "id": "500f2483-e848-4b6f-8823-874cffad1884",
   "metadata": {},
   "outputs": [],
   "source": [
    "# Se face transformarea dataframe-ului in Pandas pentru a putea crea plot-uri\n",
    "df_pandas = df.toPandas()"
   ]
  },
  {
   "cell_type": "code",
   "execution_count": 15,
   "id": "94a9a0d1-5bff-4804-b61a-c7c5009d32d5",
   "metadata": {},
   "outputs": [
    {
     "data": {
      "text/plain": [
       "<AxesSubplot:>"
      ]
     },
     "execution_count": 15,
     "metadata": {},
     "output_type": "execute_result"
    },
    {
     "data": {
      "image/png": "[encoded data removed]",
      "text/plain": [
       "<Figure size 864x720 with 2 Axes>"
      ]
     },
     "metadata": {
      "needs_background": "light"
     },
     "output_type": "display_data"
    }
   ],
   "source": [
    "# Se afiseaza matricea de corelatii\n",
    "\n",
    "plt.figure(figsize=(12,10))\n",
    "sns.heatmap(df_pandas.corr(),annot=True)"
   ]
  },
  {
   "cell_type": "code",
   "execution_count": 16,
   "id": "ac930763-e609-4eb0-83fa-4c4c81551bf3",
   "metadata": {},
   "outputs": [
    {
     "data": {
      "text/plain": [
       "<AxesSubplot:xlabel='charges', ylabel='Count'>"
      ]
     },
     "execution_count": 16,
     "metadata": {},
     "output_type": "execute_result"
    },
    {
     "data": {
      "image/png": "[encoded data removed]",
      "text/plain": [
       "<Figure size 864x360 with 1 Axes>"
      ]
     },
     "metadata": {
      "needs_background": "light"
     },
     "output_type": "display_data"
    }
   ],
   "source": [
    "# Histograma pentru distributia coloanei 'charges'\n",
    "\n",
    "plt.figure(figsize=(12, 5))\n",
    "sns.histplot(df_pandas['charges'], kde=True)"
   ]
  },
  {
   "cell_type": "markdown",
   "id": "3b9c0b42-2eca-4d3d-ac0a-4ed87787139c",
   "metadata": {},
   "source": [
    "## 4.Verificarea si prelucrarea datelor\n",
    "\n",
    "Se verifica fiecare coloana ramasa pentru a vedea daca exista valori null. De asemenea, se afiseaza valorile din coloanele 'region', 'smoker' si 'sex' si se ia o decizie asupra modului in care vor fi utilizate datele pe care le contin. Se va folosi StringIndexer pentru transformarea in variabile categoriale, variabilele string 'smoker', 'region', 'sex' si se va crea un vector denumit \"features\", format din coloanele relevante, folosind VectorAssembler."
   ]
  },
  {
   "cell_type": "code",
   "execution_count": 17,
   "id": "f6837a0e-26fc-457a-8ae1-0d5fafc5af35",
   "metadata": {},
   "outputs": [
    {
     "name": "stdout",
     "output_type": "stream",
     "text": [
      "+---+---+---+--------+------+------+-------+\n",
      "|age|sex|bmi|children|smoker|region|charges|\n",
      "+---+---+---+--------+------+------+-------+\n",
      "|  0|  0|  0|       0|     0|     0|      0|\n",
      "+---+---+---+--------+------+------+-------+\n",
      "\n"
     ]
    }
   ],
   "source": [
    "# Se verifica daca exista valori null si se afiseaza cate valori null sunt pentru fiecare coloana\n",
    "\n",
    "df_agg= df.agg(*[f.count(f.when(f.isnull(c), c)).alias(c) for c in df.columns])\n",
    "df_agg.show()"
   ]
  },
  {
   "cell_type": "markdown",
   "id": "82d03548-50ad-4433-89aa-05bc9b956d17",
   "metadata": {},
   "source": [
    "Se observa ca nu sunt valori null, deci nu trebuie sterse intrari din setul de date, sau inlocuite in vreun fel datele din coloana respectiva."
   ]
  },
  {
   "cell_type": "code",
   "execution_count": 18,
   "id": "69fbb6dc-4fa9-49e6-b7fd-d9ac00844d25",
   "metadata": {},
   "outputs": [
    {
     "name": "stdout",
     "output_type": "stream",
     "text": [
      "+---------+-----+\n",
      "|   region|count|\n",
      "+---------+-----+\n",
      "|southeast|  364|\n",
      "|northwest|  325|\n",
      "|southwest|  325|\n",
      "|northeast|  324|\n",
      "+---------+-----+\n",
      "\n",
      "+------+-----+\n",
      "|smoker|count|\n",
      "+------+-----+\n",
      "|    no| 1064|\n",
      "|   yes|  274|\n",
      "+------+-----+\n",
      "\n",
      "+------+-----+\n",
      "|smoker|count|\n",
      "+------+-----+\n",
      "|    no| 1064|\n",
      "|   yes|  274|\n",
      "+------+-----+\n",
      "\n"
     ]
    }
   ],
   "source": [
    "# Se obtine numarul de valori pentru coloana region\n",
    "df2 = df.groupBy('region').count()\n",
    "df2.orderBy(col(\"count\").desc(),col(\"region\").asc()).show(60)\n",
    "\n",
    "# Se obtine numarul de valori pentru coloana smoker\n",
    "df2 = df.groupBy('smoker').count()\n",
    "df2.orderBy(col(\"count\").desc(),col(\"smoker\").asc()).show(60)\n",
    "\n",
    "# Se obtine numarul de valori pentru coloana sex\n",
    "df2 = df.groupBy('smoker').count()\n",
    "df2.orderBy(col(\"count\").desc(),col(\"smoker\").asc()).show(60)\n"
   ]
  },
  {
   "cell_type": "markdown",
   "id": "8189e951-899b-46cc-9713-ff7caa04c1fd",
   "metadata": {},
   "source": [
    "Varaibilele  region, sex si smoker fiind de tip string vor trebui transformate in variabile categoriale pentru a putea fi utilizata mai departe."
   ]
  },
  {
   "cell_type": "code",
   "execution_count": 19,
   "id": "ecd5803a-c92d-4cd4-af47-cfdd6ae6ac1c",
   "metadata": {},
   "outputs": [
    {
     "name": "stdout",
     "output_type": "stream",
     "text": [
      "+------+----------+---------+----------+------+-------+\n",
      "|smoker|smoker_cat|   region|region_cat|   sex|sex_cat|\n",
      "+------+----------+---------+----------+------+-------+\n",
      "|   yes|       1.0|southwest|       2.0|female|    1.0|\n",
      "|    no|       0.0|southeast|       0.0|  male|    0.0|\n",
      "|    no|       0.0|southeast|       0.0|  male|    0.0|\n",
      "|    no|       0.0|northwest|       1.0|  male|    0.0|\n",
      "|    no|       0.0|northwest|       1.0|  male|    0.0|\n",
      "|    no|       0.0|southeast|       0.0|female|    1.0|\n",
      "|    no|       0.0|southeast|       0.0|female|    1.0|\n",
      "|    no|       0.0|northwest|       1.0|female|    1.0|\n",
      "|    no|       0.0|northeast|       3.0|  male|    0.0|\n",
      "|    no|       0.0|northwest|       1.0|female|    1.0|\n",
      "+------+----------+---------+----------+------+-------+\n",
      "only showing top 10 rows\n",
      "\n"
     ]
    }
   ],
   "source": [
    "from pyspark.ml.feature import StringIndexer, OneHotEncoder\n",
    "\n",
    "# Crearea unui obiect StringIndexer, specificarea coloanelor de intrare și ieșire\n",
    "SI_smoker = StringIndexer(inputCol='smoker',outputCol='smoker_cat')\n",
    "SI_region = StringIndexer(inputCol='region',outputCol='region_cat')\n",
    "SI_sex = StringIndexer(inputCol='sex',outputCol='sex_cat')\n",
    "\n",
    "# Transformarea datelor\n",
    "df = SI_smoker.fit(df).transform(df)\n",
    "df = SI_region.fit(df).transform(df)\n",
    "df = SI_sex.fit(df).transform(df)\n",
    "# Afișarea datelor transformate\n",
    "df.select('smoker', 'smoker_cat', 'region', 'region_cat', 'sex', 'sex_cat').show(10)\n",
    "\n"
   ]
  },
  {
   "cell_type": "code",
   "execution_count": 20,
   "id": "a2bf139c-a299-4971-bc47-cd74dd8284d4",
   "metadata": {},
   "outputs": [
    {
     "name": "stdout",
     "output_type": "stream",
     "text": [
      "+------+----------+-------------+---------+----------+-------------+------+-------+-------------+\n",
      "|smoker|smoker_cat|   smoker_OHE|   region|region_cat|   region_OHE|   sex|sex_cat|      sex_OHE|\n",
      "+------+----------+-------------+---------+----------+-------------+------+-------+-------------+\n",
      "|   yes|       1.0|    (1,[],[])|southwest|       2.0|(3,[2],[1.0])|female|    1.0|    (1,[],[])|\n",
      "|    no|       0.0|(1,[0],[1.0])|southeast|       0.0|(3,[0],[1.0])|  male|    0.0|(1,[0],[1.0])|\n",
      "|    no|       0.0|(1,[0],[1.0])|southeast|       0.0|(3,[0],[1.0])|  male|    0.0|(1,[0],[1.0])|\n",
      "|    no|       0.0|(1,[0],[1.0])|northwest|       1.0|(3,[1],[1.0])|  male|    0.0|(1,[0],[1.0])|\n",
      "|    no|       0.0|(1,[0],[1.0])|northwest|       1.0|(3,[1],[1.0])|  male|    0.0|(1,[0],[1.0])|\n",
      "|    no|       0.0|(1,[0],[1.0])|southeast|       0.0|(3,[0],[1.0])|female|    1.0|    (1,[],[])|\n",
      "|    no|       0.0|(1,[0],[1.0])|southeast|       0.0|(3,[0],[1.0])|female|    1.0|    (1,[],[])|\n",
      "|    no|       0.0|(1,[0],[1.0])|northwest|       1.0|(3,[1],[1.0])|female|    1.0|    (1,[],[])|\n",
      "|    no|       0.0|(1,[0],[1.0])|northeast|       3.0|    (3,[],[])|  male|    0.0|(1,[0],[1.0])|\n",
      "|    no|       0.0|(1,[0],[1.0])|northwest|       1.0|(3,[1],[1.0])|female|    1.0|    (1,[],[])|\n",
      "+------+----------+-------------+---------+----------+-------------+------+-------+-------------+\n",
      "only showing top 10 rows\n",
      "\n"
     ]
    }
   ],
   "source": [
    "# crearea obiectului si specificarea coloanelor de intrare si iesire\n",
    "OHE = OneHotEncoder(inputCols=['smoker_cat', 'region_cat', 'sex_cat'],outputCols=['smoker_OHE', 'region_OHE', 'sex_OHE'])\n",
    "\n",
    "# transformarea datelor\n",
    "df = OHE.fit(df).transform(df)\n",
    "\n",
    "# vizualizarea si transformarea datelor\n",
    "df.select('smoker', 'smoker_cat', 'smoker_OHE', 'region', 'region_cat', 'region_OHE', 'sex', 'sex_cat', 'sex_OHE').show(10)\n"
   ]
  },
  {
   "cell_type": "markdown",
   "id": "51f0834f-d2d1-4d42-ada9-698972b71e86",
   "metadata": {},
   "source": [
    "Mai departe se va forma un vector 'features' utilizand coloanele relevante. Vor fi incluse  toate atributele numerice, deoarece, conform matricei de corelatie, nu se poate spune ca existau valori ce ar fi fost mult mai reprezentative decat altele in relatie cu variabila 'charges'."
   ]
  },
  {
   "cell_type": "code",
   "execution_count": 21,
   "id": "47bd8730-b0f1-4ace-a942-3528a5e18145",
   "metadata": {},
   "outputs": [
    {
     "name": "stdout",
     "output_type": "stream",
     "text": [
      "+--------------------+-----------+\n",
      "|            features|    charges|\n",
      "+--------------------+-----------+\n",
      "|(11,[0,1,3,4,7,9]...|  16884.924|\n",
      "|(11,[0,1,2,5,8,10...|  1725.5523|\n",
      "|(11,[0,1,2,5,8,10...|   4449.462|\n",
      "|(11,[0,1,3,6,8,10...|21984.47061|\n",
      "|(11,[0,1,3,6,8,10...|  3866.8552|\n",
      "|(11,[0,1,5,8,9],[...|  3756.6216|\n",
      "|(11,[0,1,2,5,8,9]...|  8240.5896|\n",
      "|[37.0,27.74,3.0,1...|  7281.5056|\n",
      "|(11,[0,1,2,3,8,10...|  6406.4107|\n",
      "|(11,[0,1,3,6,8,9]...|28923.13692|\n",
      "|(11,[0,1,3,8,10],...|  2721.3208|\n",
      "|(11,[0,1,4,5,9],[...| 27808.7251|\n",
      "|(11,[0,1,3,7,8,10...|   1826.843|\n",
      "|(11,[0,1,5,8,9],[...| 11090.7178|\n",
      "|(11,[0,1,4,5,10],...| 39611.7577|\n",
      "|[19.0,24.6,1.0,2....|   1837.237|\n",
      "|(11,[0,1,2,3,8,9]...| 10797.3362|\n",
      "|(11,[0,1,3,8,10],...| 2395.17155|\n",
      "|(11,[0,1,3,7,8,10...|  10602.385|\n",
      "|(11,[0,1,3,4,7,10...|  36837.467|\n",
      "+--------------------+-----------+\n",
      "only showing top 20 rows\n",
      "\n"
     ]
    }
   ],
   "source": [
    "#Se va forma un vector denumit \"features\", format din coloanele relevante. \n",
    "\n",
    "assembler = VectorAssembler(\n",
    "  inputCols=['age',\n",
    "              'bmi',\n",
    "              'children',\n",
    "             'region_cat',\n",
    "             'smoker_cat',\n",
    "             'region_OHE',\n",
    "             'smoker_OHE', \n",
    "             'sex_cat',\n",
    "             'sex_OHE'\n",
    "            ],\n",
    "         outputCol=\"features\")\n",
    "\n",
    "\n",
    "# se completeaza valorile null\n",
    "df = df.fillna(0)\n",
    "\n",
    "# se transforma datele\n",
    "output = assembler.transform(df)\n",
    "\n",
    "# afisarea vectorului transformat\n",
    "output.select(\"features\", \"charges\").show()\n"
   ]
  },
  {
   "cell_type": "markdown",
   "id": "fb0331b1-f83b-49ed-954b-60255db80045",
   "metadata": {},
   "source": [
    "## 5. Alegerea și implementarea modelelor\n",
    "\n",
    "Folosind setul de date ales, se doreste prezicerea costurilor medicale acoperita de asigurarea de sanatate a beneficiarilor in functie de anumite caracteristici. Pentru rezolvare, se vor folosi 3 modele ML. Deoarece problema pusa  este  de regresie, modelele ML alese si implementate vor fi de tip regresie.\n",
    "\n",
    "1. Regresie Liniara\n",
    "\n",
    "Primul pas va fi crearea unui data frame pentru regresie, folosid doar coloanele 'features' si 'charges' apoi se va face o diviziune asupra setului de date. Datele din setul de date vor fi impartite in doua subseturi: unul pentru antrenarea modelului si unul pentru testarea lui, procentele utilizate la impartire fiind 70% pentru cel de antrenare si 30% pentru cel de testare. Se va crea apoi un \n",
    "obiect de tip Linear Regresion, se antreneaza modelul si se testeaza.\n",
    "\n",
    "2. Random Forest\n",
    "\n",
    "Pentru acest model s-a creat un vector nou, numit 'features2'. Se creeaza un data frame nou, utilizand 'charges' si 'features2' si se imparte  setul de date in date de antrenare si date de testare, folosind procentul 70% pentru datele de antrenare si 30% pentru cele de testare. Se creeaza un obiect de tip Random Forest Regressor cu coloanele 'charges' si 'features2' si un pipeline. Se antreneaza modelul utilizand pipeline-ul creat, apoi se testeaza si se evalueaza rezultatul obtinut.\n",
    "\n",
    "3. Gradient-boosted tree regression\n",
    "\n",
    "Pentru acest model se va folosi acelasi vector de features creat pentru Random Forest,  anume 'features2', si aceleasi seturi de date de antrenament si de testare. Primul pas este crearea un obiect de tipul GBTRegressor si un nou pipeline, la pasul doi se antreneaza modelul folosind pipeline-ul. Se fac predictii pe baza setului de date de test, utilizand modelul antrenat si se evalueaza predictiile."
   ]
  },
  {
   "cell_type": "markdown",
   "id": "0a7f1cfa-5a3c-4142-8c24-756ddc5cb81b",
   "metadata": {},
   "source": [
    "#### 5.1 Linear Regression"
   ]
  },
  {
   "cell_type": "code",
   "execution_count": 22,
   "id": "1c127b82-bbd2-4daa-8ff2-950ce359bdf2",
   "metadata": {},
   "outputs": [],
   "source": [
    "# Se creeaza un dataframe doar cu aceste 2 coloane\n",
    "\n",
    "df_linear_regression = output.select(\"features\", \"charges\")"
   ]
  },
  {
   "cell_type": "code",
   "execution_count": 23,
   "id": "0f26c815-181b-496e-97cc-c514c6b1443c",
   "metadata": {},
   "outputs": [],
   "source": [
    "# Se face o diviziune a setului de date în subseturi pentru antrenare si testare testare. Procentele vor fi 70%, respectiv 30%.\n",
    "trainData,testData = df_linear_regression.randomSplit([0.7,0.3])"
   ]
  },
  {
   "cell_type": "code",
   "execution_count": 24,
   "id": "0ac8c603-c3ae-4dae-b29c-e6b6d621ecff",
   "metadata": {},
   "outputs": [
    {
     "name": "stdout",
     "output_type": "stream",
     "text": [
      "+-------+------------------+\n",
      "|summary|           charges|\n",
      "+-------+------------------+\n",
      "|  count|               935|\n",
      "|   mean|13243.231118278076|\n",
      "| stddev|12367.281649684883|\n",
      "|    min|         1121.8739|\n",
      "|    max|       63770.42801|\n",
      "+-------+------------------+\n",
      "\n"
     ]
    }
   ],
   "source": [
    "#Se afiseaza statistici asupra datelor pentru training\n",
    "trainData.describe().show()"
   ]
  },
  {
   "cell_type": "code",
   "execution_count": 25,
   "id": "195084db-6dfc-4214-abef-5acad5e89b71",
   "metadata": {},
   "outputs": [
    {
     "name": "stdout",
     "output_type": "stream",
     "text": [
      "+-------+------------------+\n",
      "|summary|           charges|\n",
      "+-------+------------------+\n",
      "|  count|               403|\n",
      "|   mean|13333.508424736969|\n",
      "| stddev|11505.671134340035|\n",
      "|    min|         1163.4627|\n",
      "|    max|       55135.40209|\n",
      "+-------+------------------+\n",
      "\n"
     ]
    }
   ],
   "source": [
    "#Se afiseaza statistici asupra datelor pentru test\n",
    "testData.describe().show()"
   ]
  },
  {
   "cell_type": "code",
   "execution_count": 26,
   "id": "d919d020-9a68-44a6-a7a4-9b989048a41a",
   "metadata": {},
   "outputs": [],
   "source": [
    "# Se creeaza un obiect de tip LinearRegression\n",
    "lr = LinearRegression(labelCol='charges')"
   ]
  },
  {
   "cell_type": "code",
   "execution_count": 27,
   "id": "dad32d1b-db53-4664-b726-6acea927abba",
   "metadata": {},
   "outputs": [],
   "source": [
    "# Se antreneaza modelul\n",
    "lrModel = lr.fit(trainData)"
   ]
  },
  {
   "cell_type": "code",
   "execution_count": 28,
   "id": "d0af7c23-c5fb-4c0b-b74f-515060ec8e5c",
   "metadata": {},
   "outputs": [
    {
     "name": "stdout",
     "output_type": "stream",
     "text": [
      "Coefficients: [270.11152620913185,329.5713468438745,530.0190240632434,177.2767396421288,12205.015622722352,-251.6445033019465,215.8768703956481,-821.8871004269586,-12205.015622722536,73.91570634420495,-73.91570634436678] Intercept: -712.7331915691593\n"
     ]
    }
   ],
   "source": [
    "# Se afiseaza coeficientii si interceptia pentru regresia liniara\n",
    "print(\"Coefficients: {} Intercept: {}\".format(lrModel.coefficients,lrModel.intercept))"
   ]
  },
  {
   "cell_type": "code",
   "execution_count": 29,
   "id": "ede375e6-4875-484c-ab54-609fb9f8a631",
   "metadata": {},
   "outputs": [],
   "source": [
    "#Se evalueaza modelul pe datele de testare\n",
    "results = lrModel.evaluate(testData)"
   ]
  },
  {
   "cell_type": "code",
   "execution_count": 30,
   "id": "86457db2-d34c-4f82-9a09-46b7d3bb75e0",
   "metadata": {},
   "outputs": [
    {
     "name": "stdout",
     "output_type": "stream",
     "text": [
      "RMSE: 6100.115803046181\n",
      "MSE: 37211412.81057376\n",
      "R2: 0.71820632600281\n"
     ]
    }
   ],
   "source": [
    "# Se afiseaza informatiile obtinute dupa evaluare \n",
    "print(\"RMSE: {}\".format(results.rootMeanSquaredError))\n",
    "print(\"MSE: {}\".format(results.meanSquaredError))\n",
    "print(\"R2: {}\".format(results.r2))"
   ]
  },
  {
   "cell_type": "code",
   "execution_count": 31,
   "id": "62a4ce3d-73e4-4dc7-991a-4e8eb46e0d8b",
   "metadata": {},
   "outputs": [
    {
     "name": "stdout",
     "output_type": "stream",
     "text": [
      "+-------------------+\n",
      "|          residuals|\n",
      "+-------------------+\n",
      "|  5370.120137146012|\n",
      "|-11587.021087074627|\n",
      "|-10532.034798612447|\n",
      "|-10582.219569837496|\n",
      "|-10741.075950556668|\n",
      "|-10414.944294257544|\n",
      "|  5417.395519547019|\n",
      "|  5288.150218687806|\n",
      "|-10731.391734042827|\n",
      "|  7053.840234060168|\n",
      "|-440.95390255170605|\n",
      "| 19451.278100791722|\n",
      "| -881.3102771447448|\n",
      "| 11203.797097357181|\n",
      "| 19492.614375859142|\n",
      "|  2029.336335687277|\n",
      "| 14158.087225557605|\n",
      "| 1546.6809754123115|\n",
      "|  659.1845866348913|\n",
      "|  503.2984468840541|\n",
      "+-------------------+\n",
      "only showing top 20 rows\n",
      "\n"
     ]
    }
   ],
   "source": [
    "# Se afiseaza valorile reziduale\n",
    "results.residuals.show()"
   ]
  },
  {
   "cell_type": "code",
   "execution_count": 32,
   "id": "9b0112f3-27a5-4331-adf8-59fda1e9b2e3",
   "metadata": {},
   "outputs": [
    {
     "name": "stdout",
     "output_type": "stream",
     "text": [
      "+------------------+\n",
      "|corr(charges, age)|\n",
      "+------------------+\n",
      "| 0.299008193330648|\n",
      "+------------------+\n",
      "\n"
     ]
    }
   ],
   "source": [
    "# Sa se afiseze corelatia intre 'charges' si 'age'\n",
    "from pyspark.sql.functions import corr\n",
    "df.select(corr('charges','age')).show()"
   ]
  },
  {
   "cell_type": "code",
   "execution_count": 33,
   "id": "d4185947-b83f-44ca-a87c-cc914f0ea26e",
   "metadata": {},
   "outputs": [
    {
     "name": "stdout",
     "output_type": "stream",
     "text": [
      "+-----------------------+\n",
      "|corr(charges, children)|\n",
      "+-----------------------+\n",
      "|    0.06799822684790494|\n",
      "+-----------------------+\n",
      "\n"
     ]
    }
   ],
   "source": [
    "# Sa se afiseze corelatia intre 'charges' si 'children'\n",
    "from pyspark.sql.functions import corr\n",
    "df.select(corr('charges','children')).show()"
   ]
  },
  {
   "cell_type": "code",
   "execution_count": 34,
   "id": "cfc6ee5b-f12b-420c-a9a9-d5a637b64d04",
   "metadata": {},
   "outputs": [
    {
     "name": "stdout",
     "output_type": "stream",
     "text": [
      "+-------------------+\n",
      "| corr(charges, bmi)|\n",
      "+-------------------+\n",
      "|0.19834096883362906|\n",
      "+-------------------+\n",
      "\n"
     ]
    }
   ],
   "source": [
    "# Sa se afiseze corelatia intre 'charges' si 'bmi'\n",
    "from pyspark.sql.functions import corr\n",
    "df.select(corr('charges','bmi')).show()"
   ]
  },
  {
   "cell_type": "code",
   "execution_count": 35,
   "id": "ceb749d1-0b10-4d8f-9312-85d71cee3f72",
   "metadata": {},
   "outputs": [
    {
     "name": "stdout",
     "output_type": "stream",
     "text": [
      "+--------------------+------------------+\n",
      "|            features|        prediction|\n",
      "+--------------------+------------------+\n",
      "|(11,[0,1,2,3,4,9]...|32331.756662853986|\n",
      "|(11,[0,1,2,3,4,9]...|31181.830737074626|\n",
      "|(11,[0,1,2,3,4,9]...| 33933.34054861245|\n",
      "|(11,[0,1,2,3,4,9]...|  35455.6044698375|\n",
      "|(11,[0,1,2,3,4,10...|23570.531050556667|\n",
      "|(11,[0,1,2,3,4,10...|32876.988044257545|\n",
      "|(11,[0,1,2,3,4,10...| 35616.82588045298|\n",
      "|(11,[0,1,2,3,4,10...|36630.946781312196|\n",
      "|(11,[0,1,2,3,4,10...| 35601.22853404283|\n",
      "|(11,[0,1,2,3,4,10...|41495.338115939834|\n",
      "|(11,[0,1,2,3,8,9]...| 5002.142402551706|\n",
      "|(11,[0,1,2,3,8,9]...|2944.4661392082776|\n",
      "|(11,[0,1,2,3,8,9]...| 5445.501727144745|\n",
      "|(11,[0,1,2,3,8,9]...| 5592.614842642821|\n",
      "|(11,[0,1,2,3,8,9]...|  3796.31402414086|\n",
      "|(11,[0,1,2,3,8,9]...| 4723.701664312723|\n",
      "|(11,[0,1,2,3,8,9]...|10756.959034442394|\n",
      "|(11,[0,1,2,3,8,9]...| 5587.221524587689|\n",
      "|(11,[0,1,2,3,8,9]...| 7326.630413365108|\n",
      "|(11,[0,1,2,3,8,9]...| 7483.176803115946|\n",
      "+--------------------+------------------+\n",
      "only showing top 20 rows\n",
      "\n"
     ]
    }
   ],
   "source": [
    "#Aplicarea modelului pe datele de test neetichetate\n",
    "unlabeled_data=testData.select(\"features\")\n",
    "predictions = lrModel.transform(unlabeled_data)\n",
    "predictions.show()"
   ]
  },
  {
   "cell_type": "code",
   "execution_count": 36,
   "id": "cd33c326-e207-4571-8f31-1c61ad97ed33",
   "metadata": {},
   "outputs": [
    {
     "name": "stdout",
     "output_type": "stream",
     "text": [
      "+--------------------+-----------+\n",
      "|            features|    charges|\n",
      "+--------------------+-----------+\n",
      "|(11,[0,1,2,3,4,9]...| 37701.8768|\n",
      "|(11,[0,1,2,3,4,9]...|19594.80965|\n",
      "|(11,[0,1,2,3,4,9]...|23401.30575|\n",
      "|(11,[0,1,2,3,4,9]...| 24873.3849|\n",
      "|(11,[0,1,2,3,4,10...| 12829.4551|\n",
      "|(11,[0,1,2,3,4,10...|22462.04375|\n",
      "|(11,[0,1,2,3,4,10...| 41034.2214|\n",
      "|(11,[0,1,2,3,4,10...|  41919.097|\n",
      "|(11,[0,1,2,3,4,10...| 24869.8368|\n",
      "|(11,[0,1,2,3,4,10...|48549.17835|\n",
      "|(11,[0,1,2,3,8,9]...|  4561.1885|\n",
      "|(11,[0,1,2,3,8,9]...|22395.74424|\n",
      "|(11,[0,1,2,3,8,9]...| 4564.19145|\n",
      "|(11,[0,1,2,3,8,9]...|16796.41194|\n",
      "|(11,[0,1,2,3,8,9]...| 23288.9284|\n",
      "|(11,[0,1,2,3,8,9]...|   6753.038|\n",
      "|(11,[0,1,2,3,8,9]...|24915.04626|\n",
      "|(11,[0,1,2,3,8,9]...|  7133.9025|\n",
      "|(11,[0,1,2,3,8,9]...|   7985.815|\n",
      "|(11,[0,1,2,3,8,9]...| 7986.47525|\n",
      "+--------------------+-----------+\n",
      "only showing top 20 rows\n",
      "\n"
     ]
    }
   ],
   "source": [
    "testData.show()"
   ]
  },
  {
   "cell_type": "markdown",
   "id": "5cdf6177-19b5-4d03-a9a5-26b998984856",
   "metadata": {},
   "source": [
    "## 5.2 Random Forest"
   ]
  },
  {
   "cell_type": "code",
   "execution_count": 38,
   "id": "2a6d3541-09be-46ae-9833-4b9d6eb1d7e3",
   "metadata": {},
   "outputs": [],
   "source": [
    "#Se creeaza un nou vector, numit 'features2'\n",
    "\n",
    "assembler = VectorAssembler(\n",
    "  inputCols=['age',\n",
    "              'bmi',\n",
    "              'children',\n",
    "             'region_cat',\n",
    "             'smoker_cat',\n",
    "             'sex_cat',\n",
    "             'region_OHE',\n",
    "             'smoker_OHE',\n",
    "             'sex_OHE',\n",
    "            \n",
    "            ],\n",
    "         outputCol=\"features2\")\n",
    "\n",
    "output2 = assembler.transform(df)"
   ]
  },
  {
   "cell_type": "code",
   "execution_count": 39,
   "id": "dc713f29-b45c-4a75-8084-a35f849ea29b",
   "metadata": {},
   "outputs": [],
   "source": [
    "# Se creeaza un data frame nou\n",
    "\n",
    "df_RandomForest = output2.select(\"features2\", \"charges\")"
   ]
  },
  {
   "cell_type": "code",
   "execution_count": 40,
   "id": "ac8c2d8b-d722-496c-a5f1-3173b464d41d",
   "metadata": {},
   "outputs": [],
   "source": [
    "# Se imparte  setul de date in date de antrenare si date de test, cu procente 70% si 30%\n",
    "\n",
    "trainData,testData = df_RandomForest.randomSplit([0.7,0.3])"
   ]
  },
  {
   "cell_type": "code",
   "execution_count": 41,
   "id": "c3b0f4a0-206f-410f-a54a-3ab9c3aab763",
   "metadata": {},
   "outputs": [
    {
     "name": "stdout",
     "output_type": "stream",
     "text": [
      "+-------+-----------------+\n",
      "|summary|          charges|\n",
      "+-------+-----------------+\n",
      "|  count|              917|\n",
      "|   mean|13131.53913172303|\n",
      "| stddev|12047.26469417141|\n",
      "|    min|        1121.8739|\n",
      "|    max|      63770.42801|\n",
      "+-------+-----------------+\n",
      "\n"
     ]
    }
   ],
   "source": [
    "#Se afiseaza statistici asupra datelor pentru training\n",
    "\n",
    "trainData.describe().show()"
   ]
  },
  {
   "cell_type": "code",
   "execution_count": 42,
   "id": "d5145f27-c9ee-4c63-a1d2-d008e37de0d9",
   "metadata": {},
   "outputs": [
    {
     "name": "stdout",
     "output_type": "stream",
     "text": [
      "+-------+------------------+\n",
      "|summary|           charges|\n",
      "+-------+------------------+\n",
      "|  count|               421|\n",
      "|   mean| 13572.93018282423|\n",
      "| stddev|12254.532155507519|\n",
      "|    min|         1131.5066|\n",
      "|    max|        48673.5588|\n",
      "+-------+------------------+\n",
      "\n"
     ]
    }
   ],
   "source": [
    "#Se afiseaza statistici asupra datelor pentru test\n",
    "\n",
    "testData.describe().show()"
   ]
  },
  {
   "cell_type": "code",
   "execution_count": 43,
   "id": "030130b0-e1f3-4bfc-b7d7-06ef81cfc883",
   "metadata": {},
   "outputs": [],
   "source": [
    "# Se creeaza un obiect de tip Random Forest Regressor cu coloanele 'charges' si 'features2'\n",
    "\n",
    "rf = RandomForestRegressor(labelCol = 'charges',\n",
    "                            featuresCol = 'features2')"
   ]
  },
  {
   "cell_type": "code",
   "execution_count": 44,
   "id": "1e2bf783-9b90-4d93-a788-494fa62a6522",
   "metadata": {},
   "outputs": [],
   "source": [
    "featureIndexer =\\\n",
    "    VectorIndexer(inputCol=\"features2\", outputCol=\"indexedFeatures\").fit(trainData)\n",
    "\n",
    "pipeline = Pipeline(stages=[featureIndexer, rf])"
   ]
  },
  {
   "cell_type": "code",
   "execution_count": 45,
   "id": "7e30efa2-b96d-4f42-a726-5ba557f3bec1",
   "metadata": {},
   "outputs": [],
   "source": [
    "# Se antreneaza modelul\n",
    "\n",
    "model = pipeline.fit(trainData)"
   ]
  },
  {
   "cell_type": "code",
   "execution_count": 46,
   "id": "2c3ef2c2-d34b-4d55-94cb-c133201e90a1",
   "metadata": {},
   "outputs": [
    {
     "name": "stdout",
     "output_type": "stream",
     "text": [
      "MAE on test data = 2645.61\n",
      "RandomForestRegressionModel: uid=RandomForestRegressor_109e2619e56b, numTrees=20, numFeatures=11\n"
     ]
    }
   ],
   "source": [
    "# Se testeaza si se evalueaza modelul\n",
    "\n",
    "predictions = model.transform(testData)\n",
    "\n",
    "evaluator = RegressionEvaluator(\n",
    "    labelCol=\"charges\", predictionCol=\"prediction\", metricName=\"mae\")\n",
    "\n",
    "mae = evaluator.evaluate(predictions)\n",
    "print(\"MAE on test data = %g\" % mae)\n",
    "\n",
    "rfModel = model.stages[1]\n",
    "print(rfModel)"
   ]
  },
  {
   "cell_type": "markdown",
   "id": "9e2d178d-0e5f-48bb-ac3e-6d9949663dbb",
   "metadata": {},
   "source": [
    "## 6. Utilizarea unui model DL"
   ]
  },
  {
   "cell_type": "markdown",
   "id": "23ecaa2c-3250-4de0-8137-174080d0c17e",
   "metadata": {},
   "source": [
    "Modelul DL va fi de tip regresie si va avea ca scop rezolvarea aceleiasi probleme: prezicerea costurilor medicale individuale facturate de asigurarea de sănătate. Pentru acesta se va folosi un data frame de tip pandas din care se vor sterge variabilele de tip string ('region','smoker', 'sex') si se vor separa caracteristicile variabilei tinta ('charges'), apoi se vor imparti datele in date de antrenare si date de testare. Se va aplica un feature scaling; acesta va invata pe datele de antrenare si va fi aplicat pe datele de antrenament si de test. Apoi se va crea o retea neuronala cu o arhitectura adaptata problemelor de tip regresie si se va compila modelul, avand parametrii de pe ultimul strat luati in calcul, aceasta fiind o problema de regresie si nu de clasificare. Se antreneaza modelul pentru 200 de epoci si o dimensiune a batch-ului de 128. La final, se va folosi un grafic pentru a analiza training loss-ul si validation loss-ul si se vor afisa valorile RMSE, MAE si MSLE."
   ]
  },
  {
   "cell_type": "code",
   "execution_count": 47,
   "id": "811b471a-365b-432b-a75a-71d515aec228",
   "metadata": {},
   "outputs": [
    {
     "name": "stdout",
     "output_type": "stream",
     "text": [
      "     age     bmi  children  smoker_cat  region_cat  sex_cat\n",
      "405   52  38.380         2         0.0         3.0      1.0\n",
      "835   42  35.970         2         0.0         0.0      0.0\n",
      "483   51  39.500         1         0.0         2.0      1.0\n",
      "319   32  37.335         1         0.0         3.0      0.0\n",
      "956   54  30.800         1         1.0         0.0      0.0\n",
      "..   ...     ...       ...         ...         ...      ...\n",
      "575   58  27.170         0         0.0         1.0      1.0\n",
      "973   19  40.500         0         0.0         2.0      1.0\n",
      "75    57  34.010         0         0.0         1.0      0.0\n",
      "599   52  37.525         2         0.0         1.0      1.0\n",
      "863   36  19.855         0         0.0         3.0      1.0\n",
      "\n",
      "[936 rows x 6 columns]\n"
     ]
    }
   ],
   "source": [
    "# Se transforma data frame-ul intr-un dat frame de tip pandas\n",
    "dfdl = df.toPandas()\n",
    "\n",
    "# Se scoate coloana 'smoker' si coloana 'region' pentru a fi suprimate\n",
    "dfdl = dfdl.drop('smoker', axis = 1)\n",
    "dfdl = dfdl.drop('region', axis = 1)\n",
    "dfdl = dfdl.drop('sex', axis = 1)\n",
    "dfdl = dfdl.drop('smoker_OHE', axis = 1)\n",
    "dfdl = dfdl.drop('region_OHE', axis = 1)\n",
    "dfdl = dfdl.drop('sex_OHE', axis = 1)\n",
    "# Se separa caracteristicile variabilei 'popularity'\n",
    "X = dfdl.drop('charges', axis = 1)\n",
    "y = dfdl['charges']\n",
    "\n",
    "# Se impart datele in date de antrenare si date de testare\n",
    "X_train, X_test, y_train, y_test = train_test_split(X, y, test_size=0.3, random_state=101)\n",
    "print(X_train)"
   ]
  },
  {
   "cell_type": "code",
   "execution_count": 48,
   "id": "e878b49d-5799-482d-9c5d-46855a11dc5d",
   "metadata": {},
   "outputs": [
    {
     "name": "stdout",
     "output_type": "stream",
     "text": [
      "(936, 6)\n",
      "(402, 6)\n"
     ]
    }
   ],
   "source": [
    "# feature scaling\n",
    "scaler = MinMaxScaler()\n",
    "\n",
    "X_train = scaler.fit_transform(X_train)\n",
    "X_test = scaler.transform(X_test)\n",
    "\n",
    "\n",
    "# Se afiseaza forma dataset-urilor de antrenament si de testare\n",
    "\n",
    "print(X_train.shape)\n",
    "print(X_test.shape)"
   ]
  },
  {
   "cell_type": "code",
   "execution_count": 54,
   "id": "82ea8e25-0beb-4f7c-95d6-bc8d132f6780",
   "metadata": {},
   "outputs": [
    {
     "name": "stdout",
     "output_type": "stream",
     "text": [
      "Model: \"sequential_1\"\n",
      "_________________________________________________________________\n",
      " Layer (type)                Output Shape              Param #   \n",
      "=================================================================\n",
      " dense_5 (Dense)             (None, 6)                 42        \n",
      "                                                                 \n",
      " dense_6 (Dense)             (None, 6)                 42        \n",
      "                                                                 \n",
      " dense_7 (Dense)             (None, 6)                 42        \n",
      "                                                                 \n",
      " dense_8 (Dense)             (None, 6)                 42        \n",
      "                                                                 \n",
      " dense_9 (Dense)             (None, 1)                 7         \n",
      "                                                                 \n",
      "=================================================================\n",
      "Total params: 175\n",
      "Trainable params: 175\n",
      "Non-trainable params: 0\n",
      "_________________________________________________________________\n"
     ]
    }
   ],
   "source": [
    "# Se creeaza o retea neuronala ce are o arhitectura potrivita unei probleme de tip regresie\n",
    "model = Sequential()\n",
    "model.add(Dense(6, activation='relu', input_shape=(6, )))\n",
    "model.add(Dense(6, activation='relu'))\n",
    "model.add(Dense(6, activation='relu'))\n",
    "model.add(Dense(6, activation='relu'))\n",
    "model.add(Dense(1, activation='linear'))\n",
    "\n",
    "model.summary()"
   ]
  },
  {
   "cell_type": "code",
   "execution_count": 55,
   "id": "86b97b13-83d1-4c35-b584-9df66cccee4b",
   "metadata": {},
   "outputs": [],
   "source": [
    "# Se compileaza modelul \n",
    "\n",
    "model.compile(optimizer='adam', loss='mse')"
   ]
  },
  {
   "cell_type": "code",
   "execution_count": 56,
   "id": "f3d641eb-2711-46e5-877c-aca7d8bbc809",
   "metadata": {},
   "outputs": [
    {
     "name": "stdout",
     "output_type": "stream",
     "text": [
      "Epoch 1/200\n",
      "8/8 [==============================] - 1s 26ms/step - loss: 330293184.0000 - val_loss: 304835616.0000\n",
      "Epoch 2/200\n",
      "8/8 [==============================] - 0s 5ms/step - loss: 330291328.0000 - val_loss: 304833760.0000\n",
      "Epoch 3/200\n",
      "8/8 [==============================] - 0s 6ms/step - loss: 330289216.0000 - val_loss: 304831584.0000\n",
      "Epoch 4/200\n",
      "8/8 [==============================] - 0s 6ms/step - loss: 330286944.0000 - val_loss: 304829216.0000\n",
      "Epoch 5/200\n",
      "8/8 [==============================] - 0s 5ms/step - loss: 330284352.0000 - val_loss: 304826624.0000\n",
      "Epoch 6/200\n",
      "8/8 [==============================] - 0s 5ms/step - loss: 330281536.0000 - val_loss: 304823712.0000\n",
      "Epoch 7/200\n",
      "8/8 [==============================] - 0s 6ms/step - loss: 330278368.0000 - val_loss: 304820416.0000\n",
      "Epoch 8/200\n",
      "8/8 [==============================] - 0s 5ms/step - loss: 330274784.0000 - val_loss: 304816704.0000\n",
      "Epoch 9/200\n",
      "8/8 [==============================] - 0s 6ms/step - loss: 330270624.0000 - val_loss: 304812416.0000\n",
      "Epoch 10/200\n",
      "8/8 [==============================] - 0s 6ms/step - loss: 330265952.0000 - val_loss: 304807488.0000\n",
      "Epoch 11/200\n",
      "8/8 [==============================] - 0s 5ms/step - loss: 330260384.0000 - val_loss: 304801824.0000\n",
      "Epoch 12/200\n",
      "8/8 [==============================] - 0s 5ms/step - loss: 330254080.0000 - val_loss: 304795168.0000\n",
      "Epoch 13/200\n",
      "8/8 [==============================] - 0s 5ms/step - loss: 330246816.0000 - val_loss: 304787552.0000\n",
      "Epoch 14/200\n",
      "8/8 [==============================] - 0s 6ms/step - loss: 330238464.0000 - val_loss: 304778944.0000\n",
      "Epoch 15/200\n",
      "8/8 [==============================] - 0s 5ms/step - loss: 330228736.0000 - val_loss: 304769024.0000\n",
      "Epoch 16/200\n",
      "8/8 [==============================] - 0s 5ms/step - loss: 330217888.0000 - val_loss: 304757632.0000\n",
      "Epoch 17/200\n",
      "8/8 [==============================] - 0s 7ms/step - loss: 330205440.0000 - val_loss: 304744672.0000\n",
      "Epoch 18/200\n",
      "8/8 [==============================] - 0s 7ms/step - loss: 330191136.0000 - val_loss: 304730048.0000\n",
      "Epoch 19/200\n",
      "8/8 [==============================] - 0s 6ms/step - loss: 330175136.0000 - val_loss: 304713504.0000\n",
      "Epoch 20/200\n",
      "8/8 [==============================] - 0s 7ms/step - loss: 330157120.0000 - val_loss: 304694912.0000\n",
      "Epoch 21/200\n",
      "8/8 [==============================] - 0s 5ms/step - loss: 330136800.0000 - val_loss: 304673792.0000\n",
      "Epoch 22/200\n",
      "8/8 [==============================] - 0s 6ms/step - loss: 330113600.0000 - val_loss: 304650016.0000\n",
      "Epoch 23/200\n",
      "8/8 [==============================] - 0s 5ms/step - loss: 330087456.0000 - val_loss: 304623488.0000\n",
      "Epoch 24/200\n",
      "8/8 [==============================] - 0s 6ms/step - loss: 330058400.0000 - val_loss: 304593664.0000\n",
      "Epoch 25/200\n",
      "8/8 [==============================] - 0s 8ms/step - loss: 330025760.0000 - val_loss: 304560192.0000\n",
      "Epoch 26/200\n",
      "8/8 [==============================] - 0s 6ms/step - loss: 329988928.0000 - val_loss: 304522816.0000\n",
      "Epoch 27/200\n",
      "8/8 [==============================] - 0s 5ms/step - loss: 329948384.0000 - val_loss: 304481344.0000\n",
      "Epoch 28/200\n",
      "8/8 [==============================] - 0s 5ms/step - loss: 329902656.0000 - val_loss: 304435392.0000\n",
      "Epoch 29/200\n",
      "8/8 [==============================] - 0s 5ms/step - loss: 329852160.0000 - val_loss: 304384000.0000\n",
      "Epoch 30/200\n",
      "8/8 [==============================] - 0s 5ms/step - loss: 329796480.0000 - val_loss: 304327168.0000\n",
      "Epoch 31/200\n",
      "8/8 [==============================] - 0s 5ms/step - loss: 329734624.0000 - val_loss: 304264864.0000\n",
      "Epoch 32/200\n",
      "8/8 [==============================] - 0s 5ms/step - loss: 329666400.0000 - val_loss: 304196128.0000\n",
      "Epoch 33/200\n",
      "8/8 [==============================] - 0s 6ms/step - loss: 329591584.0000 - val_loss: 304119712.0000\n",
      "Epoch 34/200\n",
      "8/8 [==============================] - 0s 5ms/step - loss: 329508608.0000 - val_loss: 304035232.0000\n",
      "Epoch 35/200\n",
      "8/8 [==============================] - 0s 5ms/step - loss: 329415840.0000 - val_loss: 303944608.0000\n",
      "Epoch 36/200\n",
      "8/8 [==============================] - 0s 5ms/step - loss: 329316224.0000 - val_loss: 303844672.0000\n",
      "Epoch 37/200\n",
      "8/8 [==============================] - 0s 6ms/step - loss: 329209152.0000 - val_loss: 303733024.0000\n",
      "Epoch 38/200\n",
      "8/8 [==============================] - 0s 5ms/step - loss: 329087680.0000 - val_loss: 303614080.0000\n",
      "Epoch 39/200\n",
      "8/8 [==============================] - 0s 6ms/step - loss: 328959360.0000 - val_loss: 303485728.0000\n",
      "Epoch 40/200\n",
      "8/8 [==============================] - 0s 5ms/step - loss: 328818848.0000 - val_loss: 303344800.0000\n",
      "Epoch 41/200\n",
      "8/8 [==============================] - 0s 5ms/step - loss: 328665568.0000 - val_loss: 303189984.0000\n",
      "Epoch 42/200\n",
      "8/8 [==============================] - 0s 6ms/step - loss: 328499040.0000 - val_loss: 303022080.0000\n",
      "Epoch 43/200\n",
      "8/8 [==============================] - 0s 5ms/step - loss: 328316512.0000 - val_loss: 302840992.0000\n",
      "Epoch 44/200\n",
      "8/8 [==============================] - 0s 5ms/step - loss: 328120832.0000 - val_loss: 302644320.0000\n",
      "Epoch 45/200\n",
      "8/8 [==============================] - 0s 5ms/step - loss: 327906112.0000 - val_loss: 302434144.0000\n",
      "Epoch 46/200\n",
      "8/8 [==============================] - 0s 6ms/step - loss: 327677024.0000 - val_loss: 302209632.0000\n",
      "Epoch 47/200\n",
      "8/8 [==============================] - 0s 5ms/step - loss: 327439040.0000 - val_loss: 301962656.0000\n",
      "Epoch 48/200\n",
      "8/8 [==============================] - 0s 6ms/step - loss: 327171968.0000 - val_loss: 301703360.0000\n",
      "Epoch 49/200\n",
      "8/8 [==============================] - 0s 5ms/step - loss: 326889728.0000 - val_loss: 301420192.0000\n",
      "Epoch 50/200\n",
      "8/8 [==============================] - 0s 5ms/step - loss: 326579168.0000 - val_loss: 301118400.0000\n",
      "Epoch 51/200\n",
      "8/8 [==============================] - 0s 5ms/step - loss: 326250240.0000 - val_loss: 300789728.0000\n",
      "Epoch 52/200\n",
      "8/8 [==============================] - 0s 5ms/step - loss: 325899072.0000 - val_loss: 300439296.0000\n",
      "Epoch 53/200\n",
      "8/8 [==============================] - 0s 5ms/step - loss: 325521344.0000 - val_loss: 300065728.0000\n",
      "Epoch 54/200\n",
      "8/8 [==============================] - 0s 6ms/step - loss: 325115200.0000 - val_loss: 299665888.0000\n",
      "Epoch 55/200\n",
      "8/8 [==============================] - 0s 5ms/step - loss: 324687424.0000 - val_loss: 299235936.0000\n",
      "Epoch 56/200\n",
      "8/8 [==============================] - 0s 5ms/step - loss: 324220160.0000 - val_loss: 298785696.0000\n",
      "Epoch 57/200\n",
      "8/8 [==============================] - 0s 5ms/step - loss: 323732672.0000 - val_loss: 298296736.0000\n",
      "Epoch 58/200\n",
      "8/8 [==============================] - 0s 5ms/step - loss: 323213824.0000 - val_loss: 297773984.0000\n",
      "Epoch 59/200\n",
      "8/8 [==============================] - 0s 5ms/step - loss: 322649536.0000 - val_loss: 297225088.0000\n",
      "Epoch 60/200\n",
      "8/8 [==============================] - 0s 5ms/step - loss: 322055456.0000 - val_loss: 296645472.0000\n",
      "Epoch 61/200\n",
      "8/8 [==============================] - 0s 6ms/step - loss: 321435680.0000 - val_loss: 296032416.0000\n",
      "Epoch 62/200\n",
      "8/8 [==============================] - 0s 5ms/step - loss: 320770208.0000 - val_loss: 295393792.0000\n",
      "Epoch 63/200\n",
      "8/8 [==============================] - 0s 6ms/step - loss: 320083872.0000 - val_loss: 294710080.0000\n",
      "Epoch 64/200\n",
      "8/8 [==============================] - 0s 5ms/step - loss: 319358624.0000 - val_loss: 293990176.0000\n",
      "Epoch 65/200\n",
      "8/8 [==============================] - 0s 5ms/step - loss: 318585088.0000 - val_loss: 293234560.0000\n",
      "Epoch 66/200\n",
      "8/8 [==============================] - 0s 5ms/step - loss: 317767648.0000 - val_loss: 292435232.0000\n",
      "Epoch 67/200\n",
      "8/8 [==============================] - 0s 6ms/step - loss: 316899808.0000 - val_loss: 291597120.0000\n",
      "Epoch 68/200\n",
      "8/8 [==============================] - 0s 6ms/step - loss: 316015552.0000 - val_loss: 290709120.0000\n",
      "Epoch 69/200\n",
      "8/8 [==============================] - 0s 6ms/step - loss: 315058080.0000 - val_loss: 289795808.0000\n",
      "Epoch 70/200\n",
      "8/8 [==============================] - 0s 5ms/step - loss: 314070432.0000 - val_loss: 288839584.0000\n",
      "Epoch 71/200\n",
      "8/8 [==============================] - 0s 5ms/step - loss: 313036704.0000 - val_loss: 287809920.0000\n",
      "Epoch 72/200\n",
      "8/8 [==============================] - 0s 5ms/step - loss: 311937824.0000 - val_loss: 286747072.0000\n",
      "Epoch 73/200\n",
      "8/8 [==============================] - 0s 6ms/step - loss: 310795872.0000 - val_loss: 285627904.0000\n",
      "Epoch 74/200\n",
      "8/8 [==============================] - 0s 6ms/step - loss: 309585440.0000 - val_loss: 284460192.0000\n",
      "Epoch 75/200\n",
      "8/8 [==============================] - 0s 5ms/step - loss: 308319776.0000 - val_loss: 283232128.0000\n",
      "Epoch 76/200\n",
      "8/8 [==============================] - 0s 6ms/step - loss: 307025056.0000 - val_loss: 281938880.0000\n",
      "Epoch 77/200\n",
      "8/8 [==============================] - 0s 5ms/step - loss: 305631008.0000 - val_loss: 280591776.0000\n",
      "Epoch 78/200\n",
      "8/8 [==============================] - 0s 5ms/step - loss: 304180512.0000 - val_loss: 279223008.0000\n",
      "Epoch 79/200\n",
      "8/8 [==============================] - 0s 6ms/step - loss: 302724640.0000 - val_loss: 277766624.0000\n",
      "Epoch 80/200\n",
      "8/8 [==============================] - 0s 5ms/step - loss: 301149120.0000 - val_loss: 276254528.0000\n",
      "Epoch 81/200\n",
      "8/8 [==============================] - 0s 5ms/step - loss: 299523680.0000 - val_loss: 274680384.0000\n",
      "Epoch 82/200\n",
      "8/8 [==============================] - 0s 5ms/step - loss: 297861184.0000 - val_loss: 273039232.0000\n",
      "Epoch 83/200\n",
      "8/8 [==============================] - 0s 5ms/step - loss: 296081152.0000 - val_loss: 271367776.0000\n",
      "Epoch 84/200\n",
      "8/8 [==============================] - 0s 6ms/step - loss: 294294592.0000 - val_loss: 269617856.0000\n",
      "Epoch 85/200\n",
      "8/8 [==============================] - 0s 5ms/step - loss: 292445984.0000 - val_loss: 267800528.0000\n",
      "Epoch 86/200\n",
      "8/8 [==============================] - 0s 5ms/step - loss: 290488128.0000 - val_loss: 265966544.0000\n",
      "Epoch 87/200\n",
      "8/8 [==============================] - 0s 5ms/step - loss: 288521472.0000 - val_loss: 264059648.0000\n",
      "Epoch 88/200\n",
      "8/8 [==============================] - 0s 5ms/step - loss: 286488608.0000 - val_loss: 262092176.0000\n",
      "Epoch 89/200\n",
      "8/8 [==============================] - 0s 5ms/step - loss: 284382784.0000 - val_loss: 260069584.0000\n",
      "Epoch 90/200\n",
      "8/8 [==============================] - 0s 5ms/step - loss: 282212224.0000 - val_loss: 257944992.0000\n",
      "Epoch 91/200\n",
      "8/8 [==============================] - 0s 5ms/step - loss: 279915360.0000 - val_loss: 255798272.0000\n",
      "Epoch 92/200\n",
      "8/8 [==============================] - 0s 5ms/step - loss: 277639520.0000 - val_loss: 253559808.0000\n",
      "Epoch 93/200\n",
      "8/8 [==============================] - 0s 5ms/step - loss: 275260192.0000 - val_loss: 251277440.0000\n",
      "Epoch 94/200\n",
      "8/8 [==============================] - 0s 5ms/step - loss: 272798464.0000 - val_loss: 248948304.0000\n",
      "Epoch 95/200\n",
      "8/8 [==============================] - 0s 6ms/step - loss: 270327456.0000 - val_loss: 246565136.0000\n",
      "Epoch 96/200\n",
      "8/8 [==============================] - 0s 5ms/step - loss: 267748112.0000 - val_loss: 244164720.0000\n",
      "Epoch 97/200\n",
      "8/8 [==============================] - 0s 6ms/step - loss: 265148912.0000 - val_loss: 241673552.0000\n",
      "Epoch 98/200\n",
      "8/8 [==============================] - 0s 5ms/step - loss: 262512048.0000 - val_loss: 239098064.0000\n",
      "Epoch 99/200\n",
      "8/8 [==============================] - 0s 5ms/step - loss: 259764592.0000 - val_loss: 236464688.0000\n",
      "Epoch 100/200\n",
      "8/8 [==============================] - 0s 5ms/step - loss: 256917632.0000 - val_loss: 233810208.0000\n",
      "Epoch 101/200\n",
      "8/8 [==============================] - 0s 6ms/step - loss: 254056512.0000 - val_loss: 231098608.0000\n",
      "Epoch 102/200\n",
      "8/8 [==============================] - 0s 5ms/step - loss: 251203184.0000 - val_loss: 228311344.0000\n",
      "Epoch 103/200\n",
      "8/8 [==============================] - 0s 5ms/step - loss: 248242592.0000 - val_loss: 225513168.0000\n",
      "Epoch 104/200\n",
      "8/8 [==============================] - 0s 5ms/step - loss: 245232368.0000 - val_loss: 222697744.0000\n",
      "Epoch 105/200\n",
      "8/8 [==============================] - 0s 6ms/step - loss: 242231296.0000 - val_loss: 219845936.0000\n",
      "Epoch 106/200\n",
      "8/8 [==============================] - 0s 6ms/step - loss: 239105680.0000 - val_loss: 216963104.0000\n",
      "Epoch 107/200\n",
      "8/8 [==============================] - 0s 6ms/step - loss: 236026304.0000 - val_loss: 213964896.0000\n",
      "Epoch 108/200\n",
      "8/8 [==============================] - 0s 7ms/step - loss: 232770432.0000 - val_loss: 210985536.0000\n",
      "Epoch 109/200\n",
      "8/8 [==============================] - 0s 6ms/step - loss: 229587808.0000 - val_loss: 207989440.0000\n",
      "Epoch 110/200\n",
      "8/8 [==============================] - 0s 6ms/step - loss: 226371872.0000 - val_loss: 204983056.0000\n",
      "Epoch 111/200\n",
      "8/8 [==============================] - 0s 5ms/step - loss: 223194928.0000 - val_loss: 201946528.0000\n",
      "Epoch 112/200\n",
      "8/8 [==============================] - 0s 5ms/step - loss: 219880224.0000 - val_loss: 198891392.0000\n",
      "Epoch 113/200\n",
      "8/8 [==============================] - 0s 5ms/step - loss: 216632496.0000 - val_loss: 195805184.0000\n",
      "Epoch 114/200\n",
      "8/8 [==============================] - 0s 5ms/step - loss: 213312976.0000 - val_loss: 192766272.0000\n",
      "Epoch 115/200\n",
      "8/8 [==============================] - 0s 6ms/step - loss: 209990624.0000 - val_loss: 189713168.0000\n",
      "Epoch 116/200\n",
      "8/8 [==============================] - 0s 6ms/step - loss: 206757776.0000 - val_loss: 186703152.0000\n",
      "Epoch 117/200\n",
      "8/8 [==============================] - 0s 5ms/step - loss: 203505328.0000 - val_loss: 183720704.0000\n",
      "Epoch 118/200\n",
      "8/8 [==============================] - 0s 5ms/step - loss: 200259712.0000 - val_loss: 180706640.0000\n",
      "Epoch 119/200\n",
      "8/8 [==============================] - 0s 6ms/step - loss: 197033136.0000 - val_loss: 177694544.0000\n",
      "Epoch 120/200\n",
      "8/8 [==============================] - 0s 6ms/step - loss: 193808768.0000 - val_loss: 174745920.0000\n",
      "Epoch 121/200\n",
      "8/8 [==============================] - 0s 5ms/step - loss: 190640912.0000 - val_loss: 171853792.0000\n",
      "Epoch 122/200\n",
      "8/8 [==============================] - 0s 5ms/step - loss: 187511136.0000 - val_loss: 169005328.0000\n",
      "Epoch 123/200\n",
      "8/8 [==============================] - 0s 5ms/step - loss: 184387408.0000 - val_loss: 166209664.0000\n",
      "Epoch 124/200\n",
      "8/8 [==============================] - 0s 6ms/step - loss: 181342736.0000 - val_loss: 163477792.0000\n",
      "Epoch 125/200\n",
      "8/8 [==============================] - 0s 5ms/step - loss: 178305248.0000 - val_loss: 160706768.0000\n",
      "Epoch 126/200\n",
      "8/8 [==============================] - 0s 5ms/step - loss: 175344208.0000 - val_loss: 157897824.0000\n",
      "Epoch 127/200\n",
      "8/8 [==============================] - 0s 5ms/step - loss: 172332496.0000 - val_loss: 155214288.0000\n",
      "Epoch 128/200\n",
      "8/8 [==============================] - 0s 5ms/step - loss: 169410368.0000 - val_loss: 152696864.0000\n",
      "Epoch 129/200\n",
      "8/8 [==============================] - 0s 5ms/step - loss: 166717568.0000 - val_loss: 150170080.0000\n",
      "Epoch 130/200\n",
      "8/8 [==============================] - 0s 6ms/step - loss: 163970544.0000 - val_loss: 147814048.0000\n",
      "Epoch 131/200\n",
      "8/8 [==============================] - 0s 6ms/step - loss: 161386544.0000 - val_loss: 145556736.0000\n",
      "Epoch 132/200\n",
      "8/8 [==============================] - 0s 5ms/step - loss: 158896112.0000 - val_loss: 143363920.0000\n",
      "Epoch 133/200\n",
      "8/8 [==============================] - 0s 5ms/step - loss: 156443584.0000 - val_loss: 141200400.0000\n",
      "Epoch 134/200\n",
      "8/8 [==============================] - 0s 5ms/step - loss: 154085312.0000 - val_loss: 139140320.0000\n",
      "Epoch 135/200\n",
      "8/8 [==============================] - 0s 6ms/step - loss: 151781088.0000 - val_loss: 137182288.0000\n",
      "Epoch 136/200\n",
      "8/8 [==============================] - 0s 6ms/step - loss: 149648928.0000 - val_loss: 135281552.0000\n",
      "Epoch 137/200\n",
      "8/8 [==============================] - 0s 7ms/step - loss: 147524096.0000 - val_loss: 133497760.0000\n",
      "Epoch 138/200\n",
      "8/8 [==============================] - 0s 6ms/step - loss: 145537312.0000 - val_loss: 131746536.0000\n",
      "Epoch 139/200\n",
      "8/8 [==============================] - 0s 5ms/step - loss: 143599952.0000 - val_loss: 130133168.0000\n",
      "Epoch 140/200\n",
      "8/8 [==============================] - 0s 5ms/step - loss: 141811728.0000 - val_loss: 128591152.0000\n",
      "Epoch 141/200\n",
      "8/8 [==============================] - 0s 5ms/step - loss: 140048784.0000 - val_loss: 127160960.0000\n",
      "Epoch 142/200\n",
      "8/8 [==============================] - 0s 5ms/step - loss: 138423040.0000 - val_loss: 125792808.0000\n",
      "Epoch 143/200\n",
      "8/8 [==============================] - 0s 6ms/step - loss: 136851744.0000 - val_loss: 124493784.0000\n",
      "Epoch 144/200\n",
      "8/8 [==============================] - 0s 5ms/step - loss: 135318208.0000 - val_loss: 123268736.0000\n",
      "Epoch 145/200\n",
      "8/8 [==============================] - 0s 6ms/step - loss: 133943384.0000 - val_loss: 122110688.0000\n",
      "Epoch 146/200\n",
      "8/8 [==============================] - 0s 5ms/step - loss: 132612696.0000 - val_loss: 121073296.0000\n",
      "Epoch 147/200\n",
      "8/8 [==============================] - 0s 5ms/step - loss: 131428328.0000 - val_loss: 120058232.0000\n",
      "Epoch 148/200\n",
      "8/8 [==============================] - 0s 7ms/step - loss: 130220888.0000 - val_loss: 119144920.0000\n",
      "Epoch 149/200\n",
      "8/8 [==============================] - 0s 6ms/step - loss: 129168648.0000 - val_loss: 118273760.0000\n",
      "Epoch 150/200\n",
      "8/8 [==============================] - 0s 5ms/step - loss: 128055616.0000 - val_loss: 117503744.0000\n",
      "Epoch 151/200\n",
      "8/8 [==============================] - 0s 6ms/step - loss: 127207800.0000 - val_loss: 116726512.0000\n",
      "Epoch 152/200\n",
      "8/8 [==============================] - 0s 6ms/step - loss: 126203520.0000 - val_loss: 116061064.0000\n",
      "Epoch 153/200\n",
      "8/8 [==============================] - 0s 5ms/step - loss: 125419840.0000 - val_loss: 115419024.0000\n",
      "Epoch 154/200\n",
      "8/8 [==============================] - 0s 6ms/step - loss: 124660624.0000 - val_loss: 114851360.0000\n",
      "Epoch 155/200\n",
      "8/8 [==============================] - 0s 5ms/step - loss: 123943192.0000 - val_loss: 114314552.0000\n",
      "Epoch 156/200\n",
      "8/8 [==============================] - 0s 5ms/step - loss: 123253928.0000 - val_loss: 113805160.0000\n",
      "Epoch 157/200\n",
      "8/8 [==============================] - 0s 5ms/step - loss: 122593752.0000 - val_loss: 113356736.0000\n",
      "Epoch 158/200\n",
      "8/8 [==============================] - 0s 5ms/step - loss: 122004856.0000 - val_loss: 112923888.0000\n",
      "Epoch 159/200\n",
      "8/8 [==============================] - 0s 6ms/step - loss: 121451896.0000 - val_loss: 112528016.0000\n",
      "Epoch 160/200\n",
      "8/8 [==============================] - 0s 6ms/step - loss: 120967568.0000 - val_loss: 112145200.0000\n",
      "Epoch 161/200\n",
      "8/8 [==============================] - 0s 6ms/step - loss: 120442416.0000 - val_loss: 111815856.0000\n",
      "Epoch 162/200\n",
      "8/8 [==============================] - 0s 6ms/step - loss: 120012448.0000 - val_loss: 111513904.0000\n",
      "Epoch 163/200\n",
      "8/8 [==============================] - 0s 5ms/step - loss: 119639520.0000 - val_loss: 111223392.0000\n",
      "Epoch 164/200\n",
      "8/8 [==============================] - 0s 6ms/step - loss: 119232120.0000 - val_loss: 110948200.0000\n",
      "Epoch 165/200\n",
      "8/8 [==============================] - 0s 5ms/step - loss: 118856680.0000 - val_loss: 110687512.0000\n",
      "Epoch 166/200\n",
      "8/8 [==============================] - 0s 6ms/step - loss: 118520984.0000 - val_loss: 110449824.0000\n",
      "Epoch 167/200\n",
      "8/8 [==============================] - 0s 6ms/step - loss: 118208776.0000 - val_loss: 110224408.0000\n",
      "Epoch 168/200\n",
      "8/8 [==============================] - 0s 5ms/step - loss: 117897904.0000 - val_loss: 110008632.0000\n",
      "Epoch 169/200\n",
      "8/8 [==============================] - 0s 5ms/step - loss: 117619560.0000 - val_loss: 109789544.0000\n",
      "Epoch 170/200\n",
      "8/8 [==============================] - 0s 5ms/step - loss: 117327496.0000 - val_loss: 109577432.0000\n",
      "Epoch 171/200\n",
      "8/8 [==============================] - 0s 6ms/step - loss: 117055576.0000 - val_loss: 109365184.0000\n",
      "Epoch 172/200\n",
      "8/8 [==============================] - 0s 5ms/step - loss: 116778560.0000 - val_loss: 109162272.0000\n",
      "Epoch 173/200\n",
      "8/8 [==============================] - 0s 5ms/step - loss: 116508744.0000 - val_loss: 108965752.0000\n",
      "Epoch 174/200\n",
      "8/8 [==============================] - 0s 5ms/step - loss: 116254016.0000 - val_loss: 108767000.0000\n",
      "Epoch 175/200\n",
      "8/8 [==============================] - 0s 5ms/step - loss: 116014848.0000 - val_loss: 108572048.0000\n",
      "Epoch 176/200\n",
      "8/8 [==============================] - 0s 6ms/step - loss: 115761320.0000 - val_loss: 108381384.0000\n",
      "Epoch 177/200\n",
      "8/8 [==============================] - 0s 5ms/step - loss: 115518176.0000 - val_loss: 108189728.0000\n",
      "Epoch 178/200\n",
      "8/8 [==============================] - 0s 6ms/step - loss: 115275368.0000 - val_loss: 107999232.0000\n",
      "Epoch 179/200\n",
      "8/8 [==============================] - 0s 6ms/step - loss: 115034584.0000 - val_loss: 107809936.0000\n",
      "Epoch 180/200\n",
      "8/8 [==============================] - 0s 5ms/step - loss: 114794576.0000 - val_loss: 107625488.0000\n",
      "Epoch 181/200\n",
      "8/8 [==============================] - 0s 6ms/step - loss: 114557464.0000 - val_loss: 107440904.0000\n",
      "Epoch 182/200\n",
      "8/8 [==============================] - 0s 5ms/step - loss: 114324160.0000 - val_loss: 107255256.0000\n",
      "Epoch 183/200\n",
      "8/8 [==============================] - 0s 6ms/step - loss: 114097024.0000 - val_loss: 107069240.0000\n",
      "Epoch 184/200\n",
      "8/8 [==============================] - 0s 5ms/step - loss: 113873208.0000 - val_loss: 106881144.0000\n",
      "Epoch 185/200\n",
      "8/8 [==============================] - 0s 5ms/step - loss: 113646064.0000 - val_loss: 106696288.0000\n",
      "Epoch 186/200\n",
      "8/8 [==============================] - 0s 5ms/step - loss: 113427744.0000 - val_loss: 106506832.0000\n",
      "Epoch 187/200\n",
      "8/8 [==============================] - 0s 5ms/step - loss: 113195552.0000 - val_loss: 106323224.0000\n",
      "Epoch 188/200\n",
      "8/8 [==============================] - 0s 6ms/step - loss: 112960624.0000 - val_loss: 106136768.0000\n",
      "Epoch 189/200\n",
      "8/8 [==============================] - 0s 5ms/step - loss: 112739688.0000 - val_loss: 105959912.0000\n",
      "Epoch 190/200\n",
      "8/8 [==============================] - 0s 5ms/step - loss: 112502288.0000 - val_loss: 105774168.0000\n",
      "Epoch 191/200\n",
      "8/8 [==============================] - 0s 5ms/step - loss: 112292832.0000 - val_loss: 105589000.0000\n",
      "Epoch 192/200\n",
      "8/8 [==============================] - 0s 5ms/step - loss: 112071792.0000 - val_loss: 105400360.0000\n",
      "Epoch 193/200\n",
      "8/8 [==============================] - 0s 5ms/step - loss: 111858256.0000 - val_loss: 105213608.0000\n",
      "Epoch 194/200\n",
      "8/8 [==============================] - 0s 5ms/step - loss: 111644384.0000 - val_loss: 105029776.0000\n",
      "Epoch 195/200\n",
      "8/8 [==============================] - 0s 5ms/step - loss: 111428416.0000 - val_loss: 104838088.0000\n",
      "Epoch 196/200\n",
      "8/8 [==============================] - 0s 5ms/step - loss: 111207208.0000 - val_loss: 104651272.0000\n",
      "Epoch 197/200\n",
      "8/8 [==============================] - 0s 5ms/step - loss: 110993416.0000 - val_loss: 104460696.0000\n",
      "Epoch 198/200\n",
      "8/8 [==============================] - 0s 5ms/step - loss: 110782824.0000 - val_loss: 104266504.0000\n",
      "Epoch 199/200\n",
      "8/8 [==============================] - 0s 5ms/step - loss: 110577640.0000 - val_loss: 104074296.0000\n",
      "Epoch 200/200\n",
      "8/8 [==============================] - 0s 5ms/step - loss: 110366136.0000 - val_loss: 103877304.0000\n"
     ]
    }
   ],
   "source": [
    "# Se antreneaza modelul pentru 200 de epoci si o dimensiune a batch-ului de 128.\n",
    "\n",
    "history = model.fit(x=X_train,\n",
    "                  y=y_train,\n",
    "                  validation_data=(X_test, y_test),\n",
    "                  batch_size=128, \n",
    "                  epochs=200)"
   ]
  },
  {
   "cell_type": "code",
   "execution_count": 79,
   "id": "a4d65900-44c7-4751-b2f3-550e77ee5845",
   "metadata": {},
   "outputs": [
    {
     "data": {
      "image/png": "[encoded data removed]",
      "text/plain": [
       "<Figure size 432x288 with 1 Axes>"
      ]
     },
     "metadata": {
      "needs_background": "light"
     },
     "output_type": "display_data"
    }
   ],
   "source": [
    "# Se analizeaza pe grafic training loss-ul si validation loss-ul\n",
    "\n",
    "plt.plot(history.history['loss'], c='cornflowerblue', label='training loss')\n",
    "plt.plot(history.history['val_loss'], c='goldenrod', label='validation loss')\n",
    "plt.legend()\n",
    "plt.xlabel('epochs')\n",
    "plt.ylabel('loss');"
   ]
  },
  {
   "cell_type": "code",
   "execution_count": 57,
   "id": "7b92ad55-ddd6-4576-959b-fe6e296c19fc",
   "metadata": {},
   "outputs": [
    {
     "name": "stdout",
     "output_type": "stream",
     "text": [
      "13/13 [==============================] - 0s 1ms/step\n",
      "RMSE: 10192.021681607994 - MAE: 7857.906569790888 - MSLE: 0.7486421148908423\n"
     ]
    }
   ],
   "source": [
    "# Calcularea si afisarea valorilor RMSE, MAE, MSLE\n",
    "from sklearn.metrics import mean_squared_log_error\n",
    "y_pred = model.predict(X_test).reshape((-1, ))\n",
    "mae = mean_absolute_error(y_test, y_pred)\n",
    "rmse = np.sqrt(mean_squared_error(y_test, y_pred))\n",
    "msle = mean_squared_log_error(y_test, y_pred)\n",
    "print(f'RMSE: {rmse} - MAE: {mae} - MSLE: {msle}')"
   ]
  },
  {
   "cell_type": "code",
   "execution_count": 58,
   "id": "9ae6f9ac-1108-4c9a-9d87-0aeaed4f7405",
   "metadata": {},
   "outputs": [
    {
     "data": {
      "image/png": "[encoded data removed]",
      "text/plain": [
       "<Figure size 432x288 with 1 Axes>"
      ]
     },
     "metadata": {
      "needs_background": "light"
     },
     "output_type": "display_data"
    }
   ],
   "source": [
    "# Se calculeaza vectorul de valori reziduale (valori reale - predictii)  \n",
    "errors = y_test - y_pred\n",
    "\n",
    "# Histograma cu estimarea densitatii acestor erori.\n",
    "sns.histplot(x=errors, kde=True);"
   ]
  },
  {
   "cell_type": "code",
   "execution_count": null,
   "id": "3be2cfee-3ef3-4082-bfff-88da6cd6b00e",
   "metadata": {},
   "outputs": [],
   "source": []
  }
 ],
 "metadata": {
  "kernelspec": {
   "display_name": "Python 3 (ipykernel)",
   "language": "python",
   "name": "python3"
  },
  "language_info": {
   "codemirror_mode": {
    "name": "ipython",
    "version": 3
   },
   "file_extension": ".py",
   "mimetype": "text/x-python",
   "name": "python",
   "nbconvert_exporter": "python",
   "pygments_lexer": "ipython3",
   "version": "3.9.12"
  }
 },
 "nbformat": 4,
 "nbformat_minor": 5
}
